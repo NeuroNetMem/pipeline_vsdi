{
 "cells": [
  {
   "cell_type": "code",
   "execution_count": 1,
   "metadata": {
    "tags": []
   },
   "outputs": [],
   "source": [
    "import numpy as np\n",
    "import sys\n",
    "import os\n",
    "sys.path.append(os.path.abspath('../'))\n",
    "from scipy.io import loadmat\n",
    "import loaders\n",
    "from preprocessing.vsdi_preprocessing import clean_outliers,pca_ica,glm\n",
    "from pathlib import Path"
   ]
  },
  {
   "cell_type": "code",
   "execution_count": 2,
   "metadata": {
    "tags": []
   },
   "outputs": [],
   "source": [
    "datapath = Path('/ceph/imaging1/davide/ATC_Data_preprocessed')\n",
    "atc = loadmat(datapath.joinpath('A04/Day1/ATC1.mat'))"
   ]
  },
  {
   "cell_type": "code",
   "execution_count": 3,
   "metadata": {
    "tags": []
   },
   "outputs": [],
   "source": [
    "b_data = loaders.extract_behavioural_data(atc)"
   ]
  },
  {
   "cell_type": "code",
   "execution_count": null,
   "metadata": {},
   "outputs": [],
   "source": [
    "def make_design_matrix(b_data,fps=50):\n",
    "    # Design matrix\n",
    "    # Returns a matrix of size (time, 6) with the following columns:\n",
    "    # 0: CS+ (2s)\n",
    "    # 1: CS+ trace (1s)\n",
    "    # 2: CS- (2s)\n",
    "    # 3: CS- trace (1s)\n",
    "    # 4: Reward (1s)\n",
    "    # 5: Lick\n",
    "\n",
    "\n",
    "    Lick = b_data['Lick']\n",
    "    CSp = b_data['CSp']\n",
    "    CSn = b_data['CSn']\n",
    "    frames = b_data['frames']\n",
    "\n",
    "    length = len(frames)\n",
    "    X = np.zeros((length, 6))\n",
    "\n",
    "    # Iterate over lick events\n",
    "    for i in range(len(Lick)):\n",
    "        frame = np.argmin(np.abs(frames - Lick[i]))\n",
    "        X[frame:frame+4, 5] = 1\n",
    "\n",
    "    # Iterate over CSp events\n",
    "    for i in range(len(CSp)):\n",
    "        frame = np.argmin(np.abs(frames - CSp[i]))\n",
    "        X[frame:frame + (fps * 2), 0] = 1\n",
    "        frame += (fps * 2) + 1\n",
    "        X[frame:frame + (fps * 1), 1] = 1\n",
    "        frame += (fps * 1) + 1\n",
    "        X[frame:frame + (fps * 1), 4] = 1\n",
    "\n",
    "    # Iterate over CSn events\n",
    "    for i in range(len(CSn)):\n",
    "        frame = np.argmin(np.abs(frames - CSn[i]))\n",
    "        X[frame:frame + (fps * 2), 2] = 1\n",
    "        frame += (fps * 2) + 1\n",
    "        X[frame:frame + (fps * 1), 3] = 1\n",
    "\n",
    "    return X"
   ]
  },
  {
   "cell_type": "code",
   "execution_count": null,
   "metadata": {},
   "outputs": [],
   "source": [
    "# LOAD TIMECOURSES\n",
    "# SPLIT EACH DAY USING ATC1 info\n",
    "# FIT GLM ON EACH COMPONENT ON EACH DAY\n",
    "# SAVE RESULTS"
   ]
  },
  {
   "cell_type": "code",
   "execution_count": null,
   "metadata": {},
   "outputs": [],
   "source": [
    "def design_matrix(b_data):\n",
    "    # Design matrix\n",
    "    # Returns a matrix of size (time, 6) with the following columns:\n",
    "    # 0: CS+ (2s)\n",
    "    # 1: CS+ trace (1s)\n",
    "    # 2: CS- (2s)\n",
    "    # 3: CS- trace (1s)\n",
    "    # 4: Reward (1s)\n",
    "    # 5: Lick\n",
    "\n",
    "    fps = 50\n",
    "\n",
    "    Lick = b_data['Lick']\n",
    "    CSp = b_data['CSp']\n",
    "    CSn = b_data['CSn']\n",
    "    frames = b_data['frames']\n",
    "\n",
    "    length = len(frames)\n",
    "    X = np.zeros((length, 6))\n",
    "\n",
    "    # Iterate over lick events\n",
    "    for i in range(len(Lick)):\n",
    "        frame = np.argmin(np.abs(frames - Lick[i]))\n",
    "        X[frame:frame+4, 5] = 1\n",
    "\n",
    "    # Iterate over CSp events\n",
    "    for i in range(len(CSp)):\n",
    "        frame = np.argmin(np.abs(frames - CSp[i]))\n",
    "        X[frame:frame + (fps * 2), 0] = 1\n",
    "        frame += (fps * 2) + 1\n",
    "        X[frame:frame + (fps * 1), 1] = 1\n",
    "        frame += (fps * 1) + 1\n",
    "        X[frame:frame + (fps * 1), 4] = 1\n",
    "\n",
    "    # Iterate over CSn events\n",
    "    for i in range(len(CSn)):\n",
    "        frame = np.argmin(np.abs(frames - CSn[i]))\n",
    "        X[frame:frame + (fps * 2), 2] = 1\n",
    "        frame += (fps * 2) + 1\n",
    "        X[frame:frame + (fps * 1), 3] = 1\n",
    "\n",
    "    return X"
   ]
  }
 ],
 "metadata": {
  "kernelspec": {
   "display_name": "Python 3 (ipykernel)",
   "language": "python",
   "name": "python3"
  },
  "language_info": {
   "codemirror_mode": {
    "name": "ipython",
    "version": 3
   },
   "file_extension": ".py",
   "mimetype": "text/x-python",
   "name": "python",
   "nbconvert_exporter": "python",
   "pygments_lexer": "ipython3",
   "version": "3.10.9"
  },
  "vscode": {
   "interpreter": {
    "hash": "a004f9109620e037dd6eb32a5065768d5476b766f6a5e98b9519dfa4bc5bb4ce"
   }
  }
 },
 "nbformat": 4,
 "nbformat_minor": 4
}
