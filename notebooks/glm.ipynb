{
 "cells": [
  {
   "cell_type": "code",
   "execution_count": 59,
   "metadata": {
    "tags": []
   },
   "outputs": [],
   "source": [
    "import numpy as np\n",
    "import sys\n",
    "import os\n",
    "sys.path.append(os.path.abspath('../'))\n",
    "from scipy.io import loadmat\n",
    "import loaders\n",
    "from preprocessing.vsdi_preprocessing import clean_outliers,pca_ica,glm\n",
    "from pathlib import Path\n",
    "import matplotlib.pyplot as plt\n",
    "import pandas as pd\n",
    "import statsmodels.api as sm\n",
    "import pickle\n",
    "from tqdm import tqdm"
   ]
  },
  {
   "cell_type": "markdown",
   "metadata": {},
   "source": [
    "# Fit GLMS"
   ]
  },
  {
   "cell_type": "code",
   "execution_count": 68,
   "metadata": {
    "tags": []
   },
   "outputs": [],
   "source": [
    "datapath = Path('/ceph/imaging1/davide/ATC_Data_preprocessed')\n",
    "processed_datapath = Path('/scratch/dspalla/ATC_analysis')\n",
    "glm_output = processed_datapath.joinpath('glm_results')\n",
    "glm_output.mkdir(parents=True,exist_ok=True)\n"
   ]
  },
  {
   "cell_type": "code",
   "execution_count": 69,
   "metadata": {
    "tags": []
   },
   "outputs": [
    {
     "name": "stdout",
     "output_type": "stream",
     "text": [
      "A04\n",
      "Loading data ...\n",
      "fitting Day1 with shape: (59999, 6)\n",
      "fectching timecourses in range: 0-59999\n",
      "Loading data ...\n",
      "fitting Day3 with shape: (59999, 6)\n",
      "fectching timecourses in range: 59998-119997\n",
      "Loading data ...\n",
      "fitting Day5 with shape: (59998, 6)\n",
      "fectching timecourses in range: 119996-179994\n",
      "Loading data ...\n",
      "fitting Day7 with shape: (60000, 6)\n",
      "fectching timecourses in range: 179993-239993\n",
      "A06\n",
      "Loading data ...\n",
      "fitting Day1 with shape: (59998, 6)\n",
      "fectching timecourses in range: 0-59998\n",
      "Loading data ...\n",
      "fitting Day3 with shape: (59999, 6)\n",
      "fectching timecourses in range: 59997-119996\n",
      "Loading data ...\n",
      "fitting Day5 with shape: (59998, 6)\n",
      "fectching timecourses in range: 119995-179993\n",
      "Loading data ...\n",
      "fitting Day7 with shape: (60000, 6)\n",
      "fectching timecourses in range: 179992-239992\n",
      "A07\n",
      "Loading data ...\n",
      "fitting Day1 with shape: (60000, 6)\n",
      "fectching timecourses in range: 0-60000\n",
      "Loading data ...\n",
      "fitting Day3 with shape: (59998, 6)\n",
      "fectching timecourses in range: 59999-119997\n",
      "Loading data ...\n",
      "fitting Day5 with shape: (60000, 6)\n",
      "fectching timecourses in range: 119996-179996\n",
      "Loading data ...\n",
      "fitting Day7 with shape: (59999, 6)\n",
      "fectching timecourses in range: 179995-239994\n",
      "A08\n",
      "Loading data ...\n",
      "fitting Day1 with shape: (59999, 6)\n",
      "fectching timecourses in range: 0-59999\n",
      "Loading data ...\n",
      "fitting Day3 with shape: (59998, 6)\n",
      "fectching timecourses in range: 59998-119996\n",
      "Loading data ...\n",
      "fitting Day5 with shape: (59999, 6)\n",
      "fectching timecourses in range: 119995-179994\n",
      "Loading data ...\n",
      "fitting Day7 with shape: (59999, 6)\n",
      "fectching timecourses in range: 179993-239992\n"
     ]
    }
   ],
   "source": [
    "animals = ['A04','A06','A07','A08']\n",
    "days = ['Day1','Day3','Day5','Day7']\n",
    "predictor_labels = ['CS+','CS+_tr','sound','sound_trace','reward','lick']\n",
    "\n",
    "for animal in animals:\n",
    "    print(f'{animal}')\n",
    "    timecourses = np.load(processed_datapath.joinpath(f'timecourses_{animal}.npy'))\n",
    "    slice_start = 0\n",
    "    for day in days:\n",
    "        print('Loading data ...')\n",
    "        atc1 = loadmat(datapath.joinpath(f'{animal}/{day}/ATC1.mat'))\n",
    "        atc2 = loadmat(datapath.joinpath(f'{animal}/{day}/ATC2.mat'))\n",
    "        b_data1 = loaders.extract_behavioural_data(atc1)\n",
    "        b_data2 = loaders.extract_behavioural_data(atc2)\n",
    "        X1 = make_design_matrix(b_data1)\n",
    "        X2 = make_design_matrix(b_data2)\n",
    "        \n",
    "        X = np.concatenate((X1,X2))\n",
    "        \n",
    "        print(f'fitting {day} with shape: {X.shape}')\n",
    "        \n",
    "        X = sm.add_constant(X)\n",
    "        print(f'fectching timecourses in range: {slice_start}-{slice_start+len(X)}')\n",
    "        Y = timecourses.T[slice_start:slice_start+len(X)]\n",
    "        \n",
    "        for i,y in enumerate(Y.T):\n",
    "            model = sm.GLM(y, X, family=sm.families.Gaussian())\n",
    "            results = model.fit()\n",
    "            with open(glm_output.joinpath(f'glm_results_{animal}_{day}_c{i}.pickle'),'wb') as pfile:\n",
    "                pickle.dump(results,pfile)\n",
    "        slice_start += len(X)-1\n",
    "    \n",
    "        \n",
    "        \n",
    "        "
   ]
  },
  {
   "cell_type": "code",
   "execution_count": 49,
   "metadata": {
    "tags": []
   },
   "outputs": [
    {
     "data": {
      "text/plain": [
       "\u001b[0;31mType:\u001b[0m            GLMResultsWrapper\n",
       "\u001b[0;31mString form:\u001b[0m     <statsmodels.genmod.generalized_linear_model.GLMResultsWrapper object at 0x14ce24ada440>\n",
       "\u001b[0;31mFile:\u001b[0m            /scratch/dspalla/mambaforge/lib/python3.10/site-packages/statsmodels/genmod/generalized_linear_model.py\n",
       "\u001b[0;31mDocstring:\u001b[0m      \n",
       "Class to contain GLM results.\n",
       "\n",
       "GLMResults inherits from statsmodels.LikelihoodModelResults\n",
       "\n",
       "Attributes\n",
       "----------\n",
       "df_model : float\n",
       "    See GLM.df_model\n",
       "df_resid : float\n",
       "    See GLM.df_resid\n",
       "fit_history : dict\n",
       "    Contains information about the iterations. Its keys are `iterations`,\n",
       "    `deviance` and `params`.\n",
       "model : class instance\n",
       "    Pointer to GLM model instance that called fit.\n",
       "nobs : float\n",
       "    The number of observations n.\n",
       "normalized_cov_params : ndarray\n",
       "    See GLM docstring\n",
       "params : ndarray\n",
       "    The coefficients of the fitted model.  Note that interpretation\n",
       "    of the coefficients often depends on the distribution family and the\n",
       "    data.\n",
       "pvalues : ndarray\n",
       "    The two-tailed p-values for the parameters.\n",
       "scale : float\n",
       "    The estimate of the scale / dispersion for the model fit.\n",
       "    See GLM.fit and GLM.estimate_scale for more information.\n",
       "stand_errors : ndarray\n",
       "    The standard errors of the fitted GLM.   #TODO still named bse\n",
       "\n",
       "See Also\n",
       "--------\n",
       "statsmodels.base.model.LikelihoodModelResults\n",
       "\u001b[0;31mClass docstring:\u001b[0m\n",
       "Class which wraps a statsmodels estimation Results class and steps in to\n",
       "reattach metadata to results (if available)"
      ]
     },
     "metadata": {},
     "output_type": "display_data"
    }
   ],
   "source": [
    "?results"
   ]
  },
  {
   "cell_type": "code",
   "execution_count": null,
   "metadata": {},
   "outputs": [],
   "source": [
    "# LOAD TIMECOURSES\n",
    "# SPLIT EACH DAY USING ATC1 info\n",
    "# FIT GLM ON EACH COMPONENT ON EACH DAY\n",
    "# SAVE RESULTS"
   ]
  }
 ],
 "metadata": {
  "kernelspec": {
   "display_name": "Python 3 (ipykernel)",
   "language": "python",
   "name": "python3"
  },
  "language_info": {
   "codemirror_mode": {
    "name": "ipython",
    "version": 3
   },
   "file_extension": ".py",
   "mimetype": "text/x-python",
   "name": "python",
   "nbconvert_exporter": "python",
   "pygments_lexer": "ipython3",
   "version": "3.10.9"
  },
  "vscode": {
   "interpreter": {
    "hash": "a004f9109620e037dd6eb32a5065768d5476b766f6a5e98b9519dfa4bc5bb4ce"
   }
  }
 },
 "nbformat": 4,
 "nbformat_minor": 4
}
