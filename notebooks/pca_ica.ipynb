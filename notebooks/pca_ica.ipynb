{
 "cells": [
  {
   "cell_type": "code",
   "execution_count": 1,
   "metadata": {
    "tags": []
   },
   "outputs": [],
   "source": [
    "import numpy as np\n",
    "import sys\n",
    "import os\n",
    "sys.path.append(os.path.abspath('../'))\n",
    "from scipy.io import loadmat\n",
    "import loaders\n",
    "from preprocessing.vsdi_preprocessing import clean_outliers,pca_ica,glm\n",
    "from functools import reduce\n",
    "from pathlib import Path\n",
    "import matplotlib.pyplot as plt\n",
    "import time"
   ]
  },
  {
   "cell_type": "code",
   "execution_count": 2,
   "metadata": {
    "tags": []
   },
   "outputs": [],
   "source": [
    "datapath = Path('/ceph/imaging1/davide/ATC_Data_preprocessed')\n",
    "\n",
    "output_path = Path('/scratch/dspalla/ATC_analysis')\n",
    "output_path.mkdir(parents=True,exist_ok=True)"
   ]
  },
  {
   "cell_type": "code",
   "execution_count": 4,
   "metadata": {
    "tags": []
   },
   "outputs": [
    {
     "name": "stdout",
     "output_type": "stream",
     "text": [
      "animal A04\n",
      "Day1\n",
      "Day3\n",
      "Day5\n",
      "Day7\n",
      "Data concatenated\n",
      "fitting PCA-ICA\n",
      "Done in 17.138299465179443\n",
      "animal A06\n",
      "Day1\n",
      "Day3\n",
      "Day5\n",
      "Day7\n",
      "Data concatenated\n",
      "fitting PCA-ICA\n",
      "Done in 18.751935482025146\n",
      "animal A07\n",
      "Day1\n",
      "Day3\n",
      "Day5\n",
      "Day7\n",
      "Data concatenated\n",
      "fitting PCA-ICA\n",
      "Done in 19.15224599838257\n",
      "animal A08\n",
      "Day1\n",
      "Day3\n",
      "Day5\n",
      "Day7\n",
      "Data concatenated\n",
      "fitting PCA-ICA\n",
      "Done in 18.499866008758545\n"
     ]
    }
   ],
   "source": [
    "animals = ['A04','A06','A07','A08']\n",
    "days = ['Day1','Day3','Day5','Day7']\n",
    "\n",
    "for animal in animals:\n",
    "    print(f'animal {animal}')\n",
    "    vsdi_total = []\n",
    "    masks = [] \n",
    "    for day in days:\n",
    "        print(day)\n",
    "        vsdi1 = loadmat(datapath.joinpath(f'{animal}/{day}/vsdi_ATC1.mat'))['vsdi_data']\n",
    "        vsdi2 = loadmat(datapath.joinpath(f'{animal}/{day}/vsdi_ATC2.mat'))['vsdi_data']\n",
    "        mask = loadmat(datapath.joinpath(f'{animal}/{day}/vsdi_mask.mat'))['mask']\n",
    "\n",
    "        vsdi1 = clean_outliers(vsdi1,nsigma=5)\n",
    "        vsdi2 = clean_outliers(vsdi2,nsigma=5)\n",
    "\n",
    "        vsdi = np.dstack([vsdi1,vsdi2])\n",
    "        \n",
    "        vsdi_total.append(vsdi)\n",
    "        masks.append(mask)\n",
    "\n",
    "    vsdi_total = np.dstack(vsdi_total)\n",
    "    np.save(output_path.joinpath(f'vsdi_total_{animal}'),vsdi_total)\n",
    "    \n",
    "    total_mask = reduce(lambda x, y: np.logical_and(x, y), masks)\n",
    "    np.save(output_path.joinpath(f'mask_total_{animal}'),total_mask)\n",
    "    \n",
    "    print('Data concatenated')\n",
    "    \n",
    "    # fit pca-ica\n",
    "    start_time = time.time()\n",
    "    print('fitting PCA-ICA')\n",
    "    footprints, timecourses = pca_ica(vsdi_total,total_mask)\n",
    "    end_time = time.time()\n",
    "    np.save(output_path.joinpath(f'footprints_{animal}'),footprints)\n",
    "    np.save(output_path.joinpath(f'timecourses_{animal}'),timecourses)\n",
    "    print(f'Done in {end_time-start_time}')\n",
    "\n"
   ]
  },
  {
   "cell_type": "code",
   "execution_count": null,
   "metadata": {},
   "outputs": [],
   "source": []
  }
 ],
 "metadata": {
  "kernelspec": {
   "display_name": "Python 3 (ipykernel)",
   "language": "python",
   "name": "python3"
  },
  "language_info": {
   "codemirror_mode": {
    "name": "ipython",
    "version": 3
   },
   "file_extension": ".py",
   "mimetype": "text/x-python",
   "name": "python",
   "nbconvert_exporter": "python",
   "pygments_lexer": "ipython3",
   "version": "3.10.9"
  },
  "vscode": {
   "interpreter": {
    "hash": "a004f9109620e037dd6eb32a5065768d5476b766f6a5e98b9519dfa4bc5bb4ce"
   }
  }
 },
 "nbformat": 4,
 "nbformat_minor": 4
}
