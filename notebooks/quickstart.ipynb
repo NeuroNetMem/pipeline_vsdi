{
 "cells": [
  {
   "cell_type": "code",
   "execution_count": 19,
   "id": "83acd7a7-3b3a-4b96-8402-bff96ede4bbe",
   "metadata": {},
   "outputs": [
    {
     "name": "stderr",
     "output_type": "stream",
     "text": [
      "Exception ignored in: <function tqdm.__del__ at 0x10bee91c0>\n",
      "Traceback (most recent call last):\n",
      "  File \"/Users/davide/mambaforge/envs/pipeline_vsdi/lib/python3.11/site-packages/tqdm/std.py\", line 1145, in __del__\n",
      "    self.close()\n",
      "  File \"/Users/davide/mambaforge/envs/pipeline_vsdi/lib/python3.11/site-packages/tqdm/notebook.py\", line 283, in close\n",
      "    self.disp(bar_style='danger', check_delay=False)\n",
      "    ^^^^^^^^^\n",
      "AttributeError: 'tqdm_notebook' object has no attribute 'disp'\n"
     ]
    }
   ],
   "source": [
    "import pipeline_vsdi.io as io\n",
    "import numpy as np\n",
    "from tqdm import tqdm\n",
    "import matplotlib.pyplot as plt"
   ]
  },
  {
   "cell_type": "code",
   "execution_count": 27,
   "id": "69c7be9f-6710-4257-85df-973ecacc3a19",
   "metadata": {},
   "outputs": [],
   "source": [
    "def read_raw_file_slice(filename, h, w, start_frame=0,end_frame=None, precision='>f'): \n",
    "\n",
    "    \"\"\"\n",
    "    Read a slice of frames from a raw binary file and reshape into a 3D array.\n",
    "\n",
    "    This function reads a specified range of frames from a raw binary file, interprets\n",
    "    the data according to the specified precision, and reshapes it into a 3D numpy array\n",
    "    representing the frames.\n",
    "\n",
    "    Parameters:\n",
    "    filename (str): The name of the raw binary file to read.\n",
    "    h (int): The height of each frame.\n",
    "    w (int): The width of each frame.\n",
    "    start_frame (int, optional): The starting frame index (default is 0).\n",
    "    end_frame (int, optional): The ending frame index (default is None, which indicates\n",
    "                              the last frame of the slice).\n",
    "    precision (str, optional): The data precision format used in the binary file\n",
    "                              (default is '>f', which represents big-endian 4-byte float).\n",
    "\n",
    "    Returns:\n",
    "    numpy.ndarray: A 3D numpy array containing the frames, with dimensions (h, w, n_frames).\n",
    "\n",
    "    Note:\n",
    "    - The 'order=\"F\"' argument is used to reshape the data in Fortran order, which is column-major\n",
    "      like the memory layout of numpy arrays.\n",
    "\n",
    "    Example:\n",
    "    frame_slice = read_raw_file_slice('file.raw', h=256, w=256, start_frame=0, end_frame=100,\n",
    "                                      precision='>f')\n",
    "    \"\"\"\n",
    "\n",
    "    n_frames = end_frame - start_frame\n",
    "    element_size = np.dtype(precision).itemsize # byte size of a single pixel\n",
    "    offset_bytes = h * w * start_frame *element_size # offset for the file stream\n",
    "    \n",
    "    elements_to_read = h*w*n_frames # number of elements to read from stream\n",
    "    \n",
    "    with open(filename, \"rb\") as filestream:\n",
    "        filestream.seek(offset_bytes) # starts from computed offset\n",
    "        img = np.fromfile(filestream, dtype=precision,count=elements_to_read)\n",
    "    img = np.reshape(img, [h, w, n_frames], order=\"F\")\n",
    "    \n",
    "    return img\n",
    "\n",
    "def read_vsdi_file(filename,start_frame = 0, end_frame=None, precision='>f'):\n",
    "    \"\"\"\n",
    "    Reads a VSDI (Voltage-Sensitive Dye Imaging) file and returns the video as a numpy array.\n",
    "    The name of the file has to be in the following format:\n",
    "    'session_info_NFfr_FRHz_WWxHH_preprocessing_info.raw'\n",
    "    where:\n",
    "    NF: number of frames\n",
    "    FR: frame rate\n",
    "    WW: frame width in pixels\n",
    "    HH: frame height in pixels\n",
    "\n",
    "\n",
    "\n",
    "    Parameters:\n",
    "        filename (str): The name of the VSDI file to be read.\n",
    "        precision (str, optional): The precision of the data stored in the file.\n",
    "            It determines how the data is interpreted. The default value is '>f'\n",
    "            which stands for big-endian single-precision floating-point format.\n",
    "        start_frame (int,optional): Frame to start reading the video from. Default value is 0.\n",
    "        end_frame (int,optional): Frame to end the video reading at. If not provided, the video will be read\n",
    "            until the end.\n",
    "\n",
    "    Returns:\n",
    "        video (ndarray): A NumPy array containing the video read from the VSDI file with shape (h x w x n_frames).\n",
    "\n",
    "    Raises:\n",
    "        FileNotFoundError: If the specified filename does not exist.\n",
    "\n",
    "    Example:\n",
    "        filename = 'block1_A03_day2_75026fr_125Hz_480x300_Bandpass_Cheby_high_0.5_9FHz_D_F0_.raw'\n",
    "        video = read_vsdi_file(filename)\n",
    "    \"\"\"\n",
    "\n",
    "    if end_frame is None:\n",
    "        end_frame = int(filename.split('x')[0].split('fr')[0].split('_')[-1])\n",
    "\n",
    "        \n",
    "\n",
    "    w = int(filename.split('x')[1].split('_')[0])\n",
    "    h = int(filename.split('x')[0].split('_')[-1])\n",
    "    video = read_raw_file_slice(filename, h, w,\n",
    "                                start_frame = start_frame,\n",
    "                                end_frame = end_frame,\n",
    "                                precision=precision)\n",
    "\n",
    "    return video\n",
    "\n",
    "\n",
    "def read_and_downsample_vsdi(filename, stride, start_frame = 0, end_frame= None,\n",
    "                             precision='>f',batch_size=1000):\n",
    "    \"\"\"\n",
    "    Read from a VSDI .raw file, and downsample images with specified stride.\n",
    "\n",
    "    This function reads a specified range of frames from a VSDI file,\n",
    "    downsampling the frames using a given stride, and returns the downsampled frames\n",
    "    in a single array.\n",
    "\n",
    "    Parameters:\n",
    "    filename (str): The name of the VSDI file to read.\n",
    "    stride (int): The downsampling stride for both width and height of frames.\n",
    "    start_frame (int, optional): The starting frame index (default is 0).\n",
    "    end_frame (int, optional): The ending frame index (default is None, which indicates\n",
    "                              the last frame of the file).\n",
    "    precision (str, optional): The data precision format to read from the file\n",
    "                              (default is '>f', which represents big-endian 4-byte float).\n",
    "    batch_size (int, optional): The number of frames to read and process in each batch\n",
    "                              (default is 1000). This roughly correspond to a 1Gb memory load at\n",
    "                              all times. If more memory is available, batch_size can be increased.\n",
    "\n",
    "    Returns:\n",
    "    numpy.ndarray: A 3D numpy array containing the downsampled frames stacked along the\n",
    "                  third dimension.\n",
    "\n",
    "    Note:\n",
    "    - The downsampling is performed by skipping pixels in both width and height of each frame.\n",
    "    - The resulting frames are stored in a single array, with the third dimension containing\n",
    "      the downsampled frames.\n",
    "    - The function uses the provided batch size to read and process frames in\n",
    "      smaller chunks, to be able to work with larger-than-memory files.\n",
    "\n",
    "    Example:\n",
    "    downsampled_video = read_and_downsample_vsdi('Block1_A02_d7_mc_27718fr_125Hz_480x300_Bandpass_Cheby_high_0.5_9FHz_D_F0_.raw', \n",
    "                                                  stride=2, start_frame=0,end_frame=100, precision='>f', batch_size=500)\n",
    "    \"\"\"\n",
    "\n",
    "    \n",
    "\n",
    "    out_video = []\n",
    "    \n",
    "    element_size = np.dtype(precision).itemsize\n",
    "\n",
    "    w = int(filename.split('x')[1].split('_')[0])\n",
    "    h = int(filename.split('x')[0].split('_')[-1])\n",
    "    \n",
    "    if end_frame is None:\n",
    "        end_frame = int(filename.split('x')[0].split('fr')[0].split('_')[-1])\n",
    "\n",
    "\n",
    "    n_frames = end_frame-start_frame\n",
    "\n",
    "    start_frame = 0\n",
    "    n_batches = int(np.ceil(n_frames/batch_size))\n",
    "\n",
    "    for i in tqdm(range(n_batches)):\n",
    "        end_frame = start_frame + batch_size\n",
    "        if end_frame > n_frames:\n",
    "            end_frame = n_frames\n",
    "            \n",
    "        video = read_raw_file_slice(filename, h, w,\n",
    "                                start_frame = start_frame,\n",
    "                                end_frame = end_frame,\n",
    "                                precision=precision)\n",
    "        out_video.append(video[::stride,::stride,:])\n",
    "        start_frame = end_frame\n",
    "\n",
    "    out_video = np.dstack(out_video)\n",
    "\n",
    "\n",
    "    return out_video"
   ]
  },
  {
   "cell_type": "code",
   "execution_count": null,
   "id": "9046a8c4-ba13-4a08-a3c5-b1615dc802a4",
   "metadata": {},
   "outputs": [],
   "source": []
  },
  {
   "cell_type": "code",
   "execution_count": 12,
   "id": "6bf6b6a0-5bc9-4b97-b338-07bd41851eca",
   "metadata": {},
   "outputs": [],
   "source": [
    "raw_file = '/Volumes/imaging1/morgane/neuronal_dataset/Cue_dataset/A02_Gaudi/day7/Block1_A02_d7_mc_27718fr_125Hz_480x300_Bandpass_Cheby_high_0.5_9FHz_D_F0_.raw'\n"
   ]
  },
  {
   "cell_type": "code",
   "execution_count": 25,
   "id": "56201cdd-a39f-4509-9929-fb49f2436025",
   "metadata": {},
   "outputs": [
    {
     "name": "stderr",
     "output_type": "stream",
     "text": [
      "100%|█████████████████████████████████████████████████████████████████████████████████████████████████████████████████████████████████████████████████████████████████████████| 3/3 [00:36<00:00, 12.16s/it]\n"
     ]
    }
   ],
   "source": [
    "A = read_and_downsample_vsdi(raw_file,stride=8,end_frame=2001)"
   ]
  },
  {
   "cell_type": "code",
   "execution_count": 26,
   "id": "6632c1bd-6533-49f7-80d9-15719590b5ed",
   "metadata": {},
   "outputs": [
    {
     "data": {
      "text/plain": [
       "(60, 38, 2001)"
      ]
     },
     "execution_count": 26,
     "metadata": {},
     "output_type": "execute_result"
    }
   ],
   "source": [
    "A.shape"
   ]
  },
  {
   "cell_type": "code",
   "execution_count": 17,
   "id": "07bfea14-18cc-416f-9552-b41622d0f796",
   "metadata": {},
   "outputs": [
    {
     "data": {
      "text/plain": [
       "(60, 38, 2000)"
      ]
     },
     "execution_count": 17,
     "metadata": {},
     "output_type": "execute_result"
    }
   ],
   "source": [
    "B.shape"
   ]
  },
  {
   "cell_type": "code",
   "execution_count": 23,
   "id": "3a89b413-44c2-401a-bdc3-bf0d61933b5f",
   "metadata": {},
   "outputs": [
    {
     "data": {
      "text/plain": [
       "<matplotlib.image.AxesImage at 0x12eb26c90>"
      ]
     },
     "execution_count": 23,
     "metadata": {},
     "output_type": "execute_result"
    },
    {
     "data": {
      "image/png": "[encoded data removed]",
      "text/plain": [
       "<Figure size 400x631.579 with 1 Axes>"
      ]
     },
     "metadata": {},
     "output_type": "display_data"
    }
   ],
   "source": [
    "plt.matshow(B[:,:,1500])"
   ]
  },
  {
   "cell_type": "markdown",
   "id": "bda9a55b-d70b-4ebb-b59c-b9f4114e3ccc",
   "metadata": {},
   "source": [
    "# import matplotlib.pyplot as plt\n",
    "plt.matshow(A[:,:,4])"
   ]
  },
  {
   "cell_type": "code",
   "execution_count": null,
   "id": "ba20e6ec-d847-4148-ae7c-13112cfdb920",
   "metadata": {},
   "outputs": [],
   "source": []
  }
 ],
 "metadata": {
  "kernelspec": {
   "display_name": "Python 3 (ipykernel)",
   "language": "python",
   "name": "python3"
  },
  "language_info": {
   "codemirror_mode": {
    "name": "ipython",
    "version": 3
   },
   "file_extension": ".py",
   "mimetype": "text/x-python",
   "name": "python",
   "nbconvert_exporter": "python",
   "pygments_lexer": "ipython3",
   "version": "3.11.4"
  }
 },
 "nbformat": 4,
 "nbformat_minor": 5
}
